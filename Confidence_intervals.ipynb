{
 "cells": [
  {
   "cell_type": "markdown",
   "metadata": {},
   "source": [
    "Problem Statement :\n",
    "The manufacturer of Print-Heads is concerned about how good their products work and wants to find the Performance(How many prints(in millions) each machine can do)."
   ]
  },
  {
   "cell_type": "code",
   "execution_count": 1,
   "metadata": {},
   "outputs": [],
   "source": [
    "import pandas as pd\n",
    "import numpy as np\n",
    "from scipy import stats"
   ]
  },
  {
   "cell_type": "markdown",
   "metadata": {},
   "source": [
    "We have the sample data of 15 machines:\n",
    "1.13, 1.55, 1.43, 0.92, 1.25, 1.36, 1.32, 0.85, 1.07, 1.48, 1.20, 1.33, 1.18, 1.22, 1.29"
   ]
  },
  {
   "cell_type": "code",
   "execution_count": 2,
   "metadata": {},
   "outputs": [
    {
     "data": {
      "text/plain": [
       "array([1.13, 1.55, 1.43, 0.92, 1.25, 1.36, 1.32, 0.85, 1.07, 1.48, 1.2 ,\n",
       "       1.33, 1.18, 1.22, 1.29])"
      ]
     },
     "execution_count": 2,
     "metadata": {},
     "output_type": "execute_result"
    }
   ],
   "source": [
    "Sample_data=np.array([1.13, 1.55, 1.43, 0.92, 1.25, 1.36, 1.32, 0.85, 1.07, 1.48, 1.20, 1.33, 1.18, 1.22, 1.29])\n",
    "Sample_data"
   ]
  },
  {
   "cell_type": "code",
   "execution_count": 7,
   "metadata": {},
   "outputs": [],
   "source": [
    "n=len(Sample_data)"
   ]
  },
  {
   "cell_type": "code",
   "execution_count": 5,
   "metadata": {},
   "outputs": [
    {
     "data": {
      "text/plain": [
       "(1.2386666666666666, 0.18661427836285438)"
      ]
     },
     "execution_count": 5,
     "metadata": {},
     "output_type": "execute_result"
    }
   ],
   "source": [
    "sample_mean=np.mean(Sample_data)\n",
    "sample_std=np.std(Sample_data)\n",
    "population_std=0.2 #Given in Case-2\n",
    "sample_mean,sample_std"
   ]
  },
  {
   "cell_type": "markdown",
   "metadata": {},
   "source": [
    "Case-1"
   ]
  },
  {
   "cell_type": "code",
   "execution_count": null,
   "metadata": {},
   "outputs": [],
   "source": [
    "'''In Case-1 \n",
    "We got have sample_data and sample_mean, sample_standard_deviation is calculated but we dont know the population standard deviation\n",
    "And also our Sample_data size is small we go with the T-distribution '''"
   ]
  },
  {
   "cell_type": "code",
   "execution_count": null,
   "metadata": {},
   "outputs": [],
   "source": [
    "'''Formula for confidence intervals with T-distribution is [point_estimator-margin_of_error,point_estimator+margin_of_error]\n",
    "Here Margin_of_erro= Critical_value(T)*standard_deviation(sample_data) / square_root(No.of Values)'''"
   ]
  },
  {
   "cell_type": "code",
   "execution_count": 8,
   "metadata": {},
   "outputs": [],
   "source": [
    "'Case-1'\n",
    "confidence_level=0.99\n",
    "Alpha_value=1-confidence_level\n",
    "DOF=n-1\n",
    "T_critical=stats.t.ppf(1-Alpha_value/2,df=DOF)\n",
    "Margin_of_error=T_critical*(sample_std/np.sqrt(n))\n",
    "confidence_intervals=[sample_mean-Margin_of_error,sample_mean+Margin_of_error]"
   ]
  },
  {
   "cell_type": "code",
   "execution_count": 9,
   "metadata": {},
   "outputs": [
    {
     "data": {
      "text/plain": [
       "[1.095231668626123, 1.3821016647072102]"
      ]
     },
     "execution_count": 9,
     "metadata": {},
     "output_type": "execute_result"
    }
   ],
   "source": [
    "confidence_intervals"
   ]
  },
  {
   "cell_type": "code",
   "execution_count": 13,
   "metadata": {},
   "outputs": [
    {
     "data": {
      "text/plain": [
       "1.2386666666666666"
      ]
     },
     "execution_count": 13,
     "metadata": {},
     "output_type": "execute_result"
    }
   ],
   "source": [
    "np.mean(confidence_intervals)"
   ]
  },
  {
   "cell_type": "markdown",
   "metadata": {},
   "source": [
    "We are 99% confident that the True mean(actual mean) of the print heads will lies between these intervals [1.095231668626123, 1.3821016647072102] (Values in millions)\n",
    "\n",
    "."
   ]
  },
  {
   "cell_type": "code",
   "execution_count": null,
   "metadata": {},
   "outputs": [],
   "source": [
    "'''In Case-2 \n",
    "Here we got all the values we required including Population standard deviation which is 0.2\n",
    "So we will go with the Z-distribution'''"
   ]
  },
  {
   "cell_type": "code",
   "execution_count": null,
   "metadata": {},
   "outputs": [],
   "source": [
    "'''Formula for confidence intervals with Z-distribution is [point_estimator-margin_of_error,point_estimator+margin_of_error]\n",
    "Here Margin_of_erro= Critical_value(Z)*standard_deviation(sample_data) / square_root(No.of Values)'''"
   ]
  },
  {
   "cell_type": "code",
   "execution_count": 14,
   "metadata": {},
   "outputs": [],
   "source": [
    "'Case-2'\n",
    "confidence_level_=0.99\n",
    "z_critical=stats.norm.ppf(1-Alpha_value/2)\n",
    "Margin_of_error_Z=z_critical*(population_std/np.sqrt(n))\n",
    "confidence_intervals_z=[sample_mean-Margin_of_error_Z,sample_mean+Margin_of_error_Z]"
   ]
  },
  {
   "cell_type": "code",
   "execution_count": 15,
   "metadata": {},
   "outputs": [
    {
     "data": {
      "text/plain": [
       "[1.1056514133957607, 1.3716819199375725]"
      ]
     },
     "execution_count": 15,
     "metadata": {},
     "output_type": "execute_result"
    }
   ],
   "source": [
    "confidence_intervals_z"
   ]
  },
  {
   "cell_type": "markdown",
   "metadata": {},
   "source": [
    "We are 99% confident that the True mean(actual mean) of the print heads will lies between these intervals [1.1056514133957607, 1.3716819199375725] (Values in millions) ."
   ]
  }
 ],
 "metadata": {
  "kernelspec": {
   "display_name": "Python 3",
   "language": "python",
   "name": "python3"
  },
  "language_info": {
   "codemirror_mode": {
    "name": "ipython",
    "version": 3
   },
   "file_extension": ".py",
   "mimetype": "text/x-python",
   "name": "python",
   "nbconvert_exporter": "python",
   "pygments_lexer": "ipython3",
   "version": "3.11.9"
  }
 },
 "nbformat": 4,
 "nbformat_minor": 2
}
